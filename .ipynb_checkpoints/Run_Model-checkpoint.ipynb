{
 "cells": [
  {
   "cell_type": "markdown",
   "metadata": {},
   "source": [
    "<img src=\"images/HDR_Structure.png\" style=\"width:400px;height:500px;\">\n",
    "<caption><center> Figure 1 : file['A0xx_HDR'] Structure</center></caption><br>"
   ]
  },
  {
   "cell_type": "code",
   "execution_count": null,
   "metadata": {},
   "outputs": [],
   "source": [
    "## Load generated .mat file (see get_bci4_dataset2b_data.m) that is generated from downloaded gdf file\n",
    "from scipy.io import loadmat\n",
    "\n",
    "\"\"\"\n",
    "file is a dictionary with following indexes (e.g. file['A01E_s'])\n",
    "'A01E_s', 'A01E_HDR', 'A01T_s', 'A01T_HDR', \n",
    "'A02E_s', 'A02E_HDR', 'A02T_s', 'A02T_HDR', \n",
    "'A03E_s', 'A03E_HDR', 'A03T_s', 'A03T_HDR', \n",
    "'A04E_s', 'A04E_HDR', 'A04T_s', 'A04T_HDR', \n",
    "'A05E_s', 'A05E_HDR', 'A05T_s', 'A05T_HDR', \n",
    "'A06E_s', 'A06E_HDR', 'A06T_s', 'A06T_HDR', \n",
    "'A07E_s', 'A07E_HDR', 'A07T_s', 'A07T_HDR', \n",
    "'A08E_s', 'A08E_HDR', 'A08T_s', 'A08T_HDR', \n",
    "'A09E_s', 'A09E_HDR', 'A09T_s', 'A09T_HDR'\n",
    "\n",
    "All file['A0xE_x'] are evaluation set (i.e. test), \n",
    "while file['A0xT_x'] are training set\n",
    "\n",
    "All file['A0xE/T_s'] has shape (~660000, 25) \n",
    "they are the signal set. First 22 channels are EEG recording, last 3 are EOG signals\n",
    "\n",
    "\n",
    "All file['A0xx_HDR'] gives the metadata of the EEG recording\n",
    "e.g. file['A03T_HDR']['TYPE'][0,0][0] returns 'GDF'\n",
    "\"\"\"\n",
    "    \n",
    "    \n",
    "# Train set, Test set\n",
    "file = loadmat('bci4_dataset2b.mat')\n",
    "# x_train_file = file['x_train']\n",
    "# y_train_file = file['y_train']\n",
    "# x_test_file = file['x_test']\n",
    "\n",
    "# # True labels for test set\n",
    "# file = loadmat('labels_data_set_iii.mat')\n",
    "# y_test_file = file['y_test']\n",
    "\n",
    "# Use following to see events\n",
    "# file['A03E_HDR']['EVENT'][0,0][0][0][1]\n",
    "import numpy as np"
   ]
  },
  {
   "cell_type": "code",
   "execution_count": null,
   "metadata": {},
   "outputs": [],
   "source": [
    "# Get header file information\n",
    "from pre_proc.pre_process import *\n",
    "file_name = file['A08E_HDR']\n",
    "A01T_event = get_event_type(file_name)    # Event Type\n",
    "A01T_position = get_position(file_name)   # Position of Event\n",
    "A01T_duration = get_duration(file_name)   # Duration of Event\n",
    "\n",
    "# Get sampled data\n",
    "A01T_sample = file['A08E_s']     # Shape: (Samples, 25)"
   ]
  },
  {
   "cell_type": "code",
   "execution_count": null,
   "metadata": {},
   "outputs": [],
   "source": []
  },
  {
   "cell_type": "code",
   "execution_count": null,
   "metadata": {},
   "outputs": [],
   "source": [
    "A01T_sample[:,-1].reshape(A01T_sample.shape[0],1).shape"
   ]
  },
  {
   "cell_type": "code",
   "execution_count": null,
   "metadata": {},
   "outputs": [],
   "source": [
    "print(A01T_sample.shape)\n",
    "abc = np.hstack((A01T_sample[:,0:21], A01T_sample[:,-1].reshape(A01T_sample.shape[0],1))) \n",
    "print(abc.shape)"
   ]
  },
  {
   "cell_type": "markdown",
   "metadata": {},
   "source": [
    "## Test pre_proc / pre_process using test_pre_process, and sigproc using test_sigproc\n"
   ]
  },
  {
   "cell_type": "code",
   "execution_count": 1,
   "metadata": {},
   "outputs": [
    {
     "name": "stderr",
     "output_type": "stream",
     "text": [
      "........C:\\Users\\Public\\anaconda3\\lib\\importlib\\_bootstrap.py:219: RuntimeWarning: numpy.ufunc size changed, may indicate binary incompatibility. Expected 192 from C header, got 216 from PyObject\n",
      "  return f(*args, **kwds)\n",
      "C:\\Users\\Public\\anaconda3\\lib\\importlib\\_bootstrap.py:219: RuntimeWarning: numpy.ufunc size changed, may indicate binary incompatibility. Expected 192 from C header, got 216 from PyObject\n",
      "  return f(*args, **kwds)\n",
      "C:\\Users\\Public\\anaconda3\\lib\\importlib\\_bootstrap.py:219: RuntimeWarning: numpy.ufunc size changed, may indicate binary incompatibility. Expected 192 from C header, got 216 from PyObject\n",
      "  return f(*args, **kwds)\n",
      "F......"
     ]
    },
    {
     "name": "stdout",
     "output_type": "stream",
     "text": [
      "3 4\n",
      "(4, 5)\n",
      "(4, 3)\n"
     ]
    },
    {
     "name": "stderr",
     "output_type": "stream",
     "text": [
      "\n",
      "======================================================================\n",
      "FAIL: test_5ch_remove_2 (__main__.Test_apply_pre_proc)\n",
      "----------------------------------------------------------------------\n",
      "Traceback (most recent call last):\n",
      "  File \"E:\\GitHub\\arl-eegmodels\\pre_proc\\test_pre_process.py\", line 442, in test_5ch_remove_2\n",
      "    np.testing.assert_array_equal(actual, expected)\n",
      "  File \"C:\\Users\\Public\\anaconda3\\lib\\site-packages\\numpy\\testing\\_private\\utils.py\", line 936, in assert_array_equal\n",
      "    verbose=verbose, header='Arrays are not equal')\n",
      "  File \"C:\\Users\\Public\\anaconda3\\lib\\site-packages\\numpy\\testing\\_private\\utils.py\", line 765, in assert_array_compare\n",
      "    raise AssertionError(msg)\n",
      "AssertionError: \n",
      "Arrays are not equal\n",
      "\n",
      "(shapes (4, 4), (4, 3) mismatch)\n",
      " x: array([[ 0.      ,  0.      ,  0.      ,  0.      ],\n",
      "       [31.622777, 31.622777, 31.622777,  0.      ],\n",
      "       [30.568067, 30.276806, 30.568067,  0.      ],\n",
      "       [28.730168, 28.034175, 28.730168,  0.      ]])\n",
      " y: array([[ 0.      ,  0.      ,  0.      ],\n",
      "       [31.622777, 31.622777, 31.622777],\n",
      "       [30.568067, 30.276806, 30.568067],\n",
      "       [28.730168, 28.034175, 28.730168]])\n",
      "\n",
      "----------------------------------------------------------------------\n",
      "Ran 15 tests in 1.064s\n",
      "\n",
      "FAILED (failures=1)\n"
     ]
    }
   ],
   "source": [
    "run ./pre_proc/test_pre_process.py"
   ]
  },
  {
   "cell_type": "code",
   "execution_count": null,
   "metadata": {},
   "outputs": [],
   "source": [
    "run ./pre_proc/test_sigproc.py"
   ]
  },
  {
   "cell_type": "code",
   "execution_count": null,
   "metadata": {},
   "outputs": [],
   "source": [
    "sampled_eeg = np.array(file['A08E_s'])\n",
    "sampled_eeg.shape\n",
    "file['A08E_s']"
   ]
  },
  {
   "cell_type": "code",
   "execution_count": null,
   "metadata": {},
   "outputs": [],
   "source": [
    "a = file['A08E_s']"
   ]
  },
  {
   "cell_type": "code",
   "execution_count": null,
   "metadata": {},
   "outputs": [],
   "source": [
    "import numpy as np\n",
    "np.nan == np.nan"
   ]
  },
  {
   "cell_type": "code",
   "execution_count": null,
   "metadata": {},
   "outputs": [],
   "source": [
    "np.nan"
   ]
  },
  {
   "cell_type": "code",
   "execution_count": null,
   "metadata": {},
   "outputs": [],
   "source": []
  },
  {
   "cell_type": "code",
   "execution_count": null,
   "metadata": {},
   "outputs": [],
   "source": []
  },
  {
   "cell_type": "code",
   "execution_count": null,
   "metadata": {},
   "outputs": [],
   "source": [
    "# file['A03E_HDR']['EVENT'][0,0][0][0][1]"
   ]
  },
  {
   "cell_type": "code",
   "execution_count": null,
   "metadata": {},
   "outputs": [],
   "source": [
    "import tensorflow as tf\n",
    "print(tf.__version__)"
   ]
  },
  {
   "cell_type": "code",
   "execution_count": null,
   "metadata": {},
   "outputs": [],
   "source": [
    "from EEGModels import EEGNet, ShallowConvNet, DeepConvNet\n",
    "# import tensorflow.compat.v1 as tf\n",
    "# tf.disable_v2_behavior()\n",
    "help(EEGNet)"
   ]
  },
  {
   "cell_type": "code",
   "execution_count": null,
   "metadata": {},
   "outputs": [],
   "source": [
    "model  = EEGNet(4)"
   ]
  },
  {
   "cell_type": "code",
   "execution_count": null,
   "metadata": {},
   "outputs": [],
   "source": [
    "model.compile(loss = 'categorical_crossentropy', optimizer = 'adam')"
   ]
  },
  {
   "cell_type": "code",
   "execution_count": null,
   "metadata": {},
   "outputs": [],
   "source": [
    "from braindecode.datautil.preprocess import exponential_moving_standardize\n",
    "from braindecode.datautil.preprocess import MNEPreproc, NumpyPreproc, preprocess"
   ]
  },
  {
   "cell_type": "code",
   "execution_count": null,
   "metadata": {},
   "outputs": [],
   "source": [
    "low_cut_hz = 4.  # low cut frequency for filtering\n",
    "high_cut_hz = 38.  # high cut frequency for filtering\n",
    "# Parameters for exponential moving standardization\n",
    "factor_new = 1e-3\n",
    "init_block_size = 1000\n",
    "\n",
    "preprocessors = [\n",
    "    # keep only EEG sensors\n",
    "    MNEPreproc(fn='pick_types', eeg=True, meg=False, stim=False),\n",
    "    # convert from volt to microvolt, directly modifying the numpy array\n",
    "    NumpyPreproc(fn=lambda x: x * 1e6),\n",
    "    # bandpass filter\n",
    "    MNEPreproc(fn='filter', l_freq=low_cut_hz, h_freq=high_cut_hz),\n",
    "    # exponential moving standardization\n",
    "    NumpyPreproc(fn=exponential_moving_standardize, factor_new=factor_new,\n",
    "        init_block_size=init_block_size)\n",
    "]\n",
    "\n",
    "# Transform the data\n",
    "preprocess(dataset, preprocessors)"
   ]
  },
  {
   "cell_type": "code",
   "execution_count": null,
   "metadata": {},
   "outputs": [],
   "source": [
    "help(preprocess)"
   ]
  },
  {
   "cell_type": "code",
   "execution_count": null,
   "metadata": {},
   "outputs": [],
   "source": []
  }
 ],
 "metadata": {
  "kernelspec": {
   "display_name": "Python 3",
   "language": "python",
   "name": "python3"
  },
  "language_info": {
   "codemirror_mode": {
    "name": "ipython",
    "version": 3
   },
   "file_extension": ".py",
   "mimetype": "text/x-python",
   "name": "python",
   "nbconvert_exporter": "python",
   "pygments_lexer": "ipython3",
   "version": "3.7.6"
  }
 },
 "nbformat": 4,
 "nbformat_minor": 4
}
