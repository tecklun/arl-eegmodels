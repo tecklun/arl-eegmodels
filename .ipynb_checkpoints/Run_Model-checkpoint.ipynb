{
 "cells": [
  {
   "cell_type": "markdown",
   "metadata": {},
   "source": [
    "# 0 - EEG Classification on Dataset\n",
    "\n",
    "Dataset from: BCI Competition 4, Dataset 2b\n",
    "\n",
    "### a. Classification Labels\n",
    "    4 Motor Imagery tasks (i.e. imagined)\n",
    "    - Class 1: Left hand\n",
    "    - Class 2: Right hand\n",
    "    - Class 3: Both Feet\n",
    "    - Class 4: Tongue\n",
    "\n",
    "### b. Experiment Subject / Session / Runs / Trials\n",
    "    9 subjects\n",
    "    - 2 sessions on different days for each subject\n",
    "        - Each session = 6 runs\n",
    "            - 1 run = 48 trials (12 for each of the 4 possible classes)\n",
    "    Total 288 trials (48 x 6 = 288 per session per subject)\n",
    "\n",
    "### c. Experiment procedure\n",
    "    Beginning of each session, approx. 4-5min to estimate EOG influence\n",
    "    2 min eyes open\n",
    "    1 min eyes closed\n",
    "    1 min with eyes movement\n",
    "\n",
    "    T = 0s: fixation cross appeared on black screen + short acoustic tone\n",
    "    T = 2s to 3.25s: cue (arrow pointing L, R, U, D) corresponding to 4 classes\n",
    "    Subject to perform MI tasks, without feeback\n",
    "    T = 3.25s to 6s: no more cue, subjects continue with MI tasks\n",
    "    T > 6s: Short break, screen black\n",
    "\n",
    "### d. Experiment Hardware\n",
    "    EEG\n",
    "    22 Ag/AgCl electrodes\n",
    "    Left mastoid = Ref, Right mastoid = GND\n",
    "    Sampling Rate: 250Hz\n",
    "    BPF: 0.5Hz to 100Hz + Notch at 50Hz\n",
    "    Sensitivity: 100uV\n",
    "\n",
    "    EOG: for artifact removal\n",
    "    3 monopolar EOG channel\n",
    "    Sampling Rate: 250Hz\n",
    "    BPF: 0.5Hz to 100Hz + Notch at 50Hz\n",
    "    Sensitivity: 1mV"
   ]
  },
  {
   "cell_type": "markdown",
   "metadata": {},
   "source": [
    "# 1 - Dataset Loading (from .gdf to .mat)\n",
    "Dataset is downloaded from BCI Competition webpage. \n",
    "\n",
    "Downloaded dataset is in GDF (General Data File) format which requires the script from biosig for decoding. While decoding script is available in both python and MATLAB, the python version is less stable and resulted in error in my own decoding. Thus, MATLAB version is used to decode the .gdf files to .mat files before being imported to python for further processing. \n",
    "\n",
    "Amended biosig script that performs the conversion of .gdf files to .mat file as follow:\n",
    "    \n",
    "    E:\\GitHub\\arl-eegmodels\\biosig4octmat\\get_bci4_dataset2b_data.m\n",
    "\n",
    "\n",
    "Output dataset contains _s file denoting the sampled EEG/EOG data; and _HDR file denoting the header file. \n",
    "\n",
    "The structure of header file is as follow: \n",
    "\n",
    "<img src=\"images/HDR_Structure.png\" style=\"width:400px;height:500px;\">\n",
    "<caption><center> Figure 1 : file['A0xx_HDR'] Structure</center></caption>"
   ]
  },
  {
   "cell_type": "markdown",
   "metadata": {},
   "source": [
    "# 2 - Pre-processing \n",
    "\n",
    "## 2a. Loading .mat file to memory\n",
    "    The respective .mat files are read into memory for pre-processing.\n",
    "\n",
    "    The loaded data are as follow: \n",
    "\n",
    "        file['A01T_HDR']   ==> Subject 1, Train Session, Header File\n",
    "        file['A01T_s']   ==> Subject 1, Train Session, Signal File\n",
    "        file['A01E_HDR']   ==> Subject 1, Test Session, Header File. Not contain valid class\n",
    "        file['A01E_s']   ==> Subject 1, Test Session, Header File\n",
    "        ...\n",
    "        file['A09T_HDR']   ==> Subject 9, Train Session, Header File\n",
    "        file['A09T_s']   ==> Subject 9, Train Session, Signal File\n",
    "        file['A09E_HDR']   ==> Subject 9, Test Session, Header File. Not contain valid class\n",
    "        file['A09E_s']   ==> Subject 9, Test Session, Header File\n",
    "\n",
    "## 2b. Pre-processing\n",
    "    Pre-processing scipts are written in pre_proc.pre_process, with the full pre-processing steps are in function: \n",
    "\n",
    "        \"apply_pre_proc\"\n",
    "\n",
    "    Steps taken by apply_pre_proc are:\n",
    "        1. remove_columns - remove the 3 channels of EOG \n",
    "        2. to_microvolt - convert unit from V to microvolt\n",
    "        3. sigproc.bandpass_cnt* - bandpass filter from 4 to 38Hz, sampling rate 250Hz. This step currently not working\n",
    "        4. sigproc.exponential_running_standardize* - modified from original codes. Perform exponential weighted average on signal to normalize signal from each channel.\n",
    "        5. get_event_type, get_position, get_duration - get the respective fields from header file (_HDR)\n",
    "        6. add_label_to_eeg - insert column to include the label for each sample, based on the info derived from header file\n",
    "\n",
    "    * from following\n",
    "    https://github.com/robintibor/braindecode/blob/master/braindecode/datautil/signalproc.py\n",
    "\n",
    "## 2c. Split dataset\n",
    "\n",
    "    function split_dataset is used to condition labelled dataset to the epoch samples. Then split to X and y for subsequent training. \n",
    "\n",
    "        X, y = split_dataset(processed_eeg_w_label, val_trial)"
   ]
  },
  {
   "cell_type": "code",
   "execution_count": 1,
   "metadata": {},
   "outputs": [],
   "source": [
    "## Load generated .mat file (see get_bci4_dataset2b_data.m) that is generated from downloaded gdf file\n",
    "from scipy.io import loadmat\n",
    "\"\"\"\n",
    "file is a dictionary with following indexes (e.g. file['A01E_s'])\n",
    "'A01E_s', 'A01E_HDR', 'A01T_s', 'A01T_HDR', \n",
    "'A02E_s', 'A02E_HDR', 'A02T_s', 'A02T_HDR', \n",
    "'A03E_s', 'A03E_HDR', 'A03T_s', 'A03T_HDR', \n",
    "'A04E_s', 'A04E_HDR', 'A04T_s', 'A04T_HDR', \n",
    "'A05E_s', 'A05E_HDR', 'A05T_s', 'A05T_HDR', \n",
    "'A06E_s', 'A06E_HDR', 'A06T_s', 'A06T_HDR', \n",
    "'A07E_s', 'A07E_HDR', 'A07T_s', 'A07T_HDR', \n",
    "'A08E_s', 'A08E_HDR', 'A08T_s', 'A08T_HDR', \n",
    "'A09E_s', 'A09E_HDR', 'A09T_s', 'A09T_HDR'\n",
    "\n",
    "All file['A0xE_x'] are evaluation set (i.e. test), \n",
    "while file['A0xT_x'] are training set\n",
    "\n",
    "All file['A0xE/T_s'] has shape (~660000, 25) \n",
    "they are the signal set. First 22 channels are EEG recording, last 3 are EOG signals\n",
    "\n",
    "\n",
    "All file['A0xx_HDR'] gives the metadata of the EEG recording\n",
    "e.g. file['A03T_HDR']['TYPE'][0,0][0] returns 'GDF'\n",
    "\"\"\"\n",
    "# Train set, Test set\n",
    "file = loadmat('bci4_dataset2b.mat')"
   ]
  },
  {
   "cell_type": "code",
   "execution_count": 141,
   "metadata": {},
   "outputs": [],
   "source": [
    "# Get header file information\n",
    "from pre_proc.pre_process import *\n",
    "file_name = file['A01T_HDR']\n",
    "A01T_event = get_event_type(file_name)    # Event Type\n",
    "A01T_position = get_position(file_name)   # Position of Event\n",
    "A01T_duration = get_duration(file_name)   # Duration of Event\n",
    "\n",
    "# Get sampled data\n",
    "A01T_sample = file['A01T_s']     # Shape: (Samples, 25)\n",
    "\n",
    "# Apply pre-processing\n",
    "processed_eeg_w_label, val_trial = apply_pre_proc(A01T_sample, file_name)\n",
    "\n",
    "# Split dataset\n",
    "X, y = split_dataset(processed_eeg_w_label, val_trial)"
   ]
  },
  {
   "cell_type": "markdown",
   "metadata": {},
   "source": [
    "# 3 - Model initialization and training\n",
    "Initialize EEGNet from https://github.com/vlawhern/arl-eegmodels\n",
    "Subject 1, Session 1 dataset split to train and validation set. \n",
    "Use EEGNet to train on Subject 1, Session 1, train set, then check validation accuracy using validation set. \n",
    "\n",
    "Results obtained similar to what was published in paper for \n",
    "- \"within-subject classification performance: SMR\""
   ]
  },
  {
   "cell_type": "code",
   "execution_count": 142,
   "metadata": {},
   "outputs": [
    {
     "data": {
      "text/plain": [
       "'2.3.0'"
      ]
     },
     "execution_count": 142,
     "metadata": {},
     "output_type": "execute_result"
    }
   ],
   "source": [
    "import tensorflow as tf\n",
    "tf.__version__\n",
    "# Version Check: https://www.tensorflow.org/install/source\n",
    "# In many earlier iterations, faced problem with error: CuDnn unable to intialize \n",
    "# While EEGNet propose tensorflow version 1.12.0, the following compatible versions also work\n",
    "# tensorflow: 2.3.0\n",
    "# CUDA: 10.1\n",
    "# CuDNN: 7.6.5\n",
    "\n",
    "# Not willing to revert tensorflow back to version 1, thus, found alternative version above\n",
    "\n",
    "# For SoC Node, CUDA version was 10.0, CuDNN was 7.5. No tested compatible tensorflow version found"
   ]
  },
  {
   "cell_type": "code",
   "execution_count": 143,
   "metadata": {},
   "outputs": [],
   "source": [
    "# Make input X, y the shape to be compatible with EEGNet\n",
    "import numpy as np\n",
    "from tensorflow.keras import utils as np_utils\n",
    "\n",
    "X_new = np.expand_dims(X, axis=0)    # (1, trials, samples, channel)\n",
    "X_new= np.transpose(X_new, (1,0,3,2))        # shape (trials, 1, channels, samples)\n",
    "\n",
    "y_new = np_utils.to_categorical(y[:,0]-1)    # (trials, 4)"
   ]
  },
  {
   "cell_type": "code",
   "execution_count": 144,
   "metadata": {},
   "outputs": [
    {
     "name": "stdout",
     "output_type": "stream",
     "text": [
      "Initial shapes are:  (273, 1, 22, 500) (273, 4)\n",
      "Training set shapes are:  (218, 1, 22, 500) (218, 4)\n",
      "Validation set shapes are :  (55, 1, 22, 500) (55, 4)\n"
     ]
    }
   ],
   "source": [
    "# Split session into train and validation set 80%-20% split\n",
    "X_train = X_new[:218]\n",
    "y_train = y_new[:218]\n",
    "X_val = X_new[218:]\n",
    "y_val = y_new[218:]\n",
    "print('Initial shapes are: ', X_new.shape, y_new.shape)\n",
    "print('Training set shapes are: ', X_train.shape, y_train.shape)\n",
    "print('Validation set shapes are : ' ,X_val.shape, y_val.shape)"
   ]
  },
  {
   "cell_type": "code",
   "execution_count": 148,
   "metadata": {},
   "outputs": [
    {
     "name": "stdout",
     "output_type": "stream",
     "text": [
      "22 500 64 8\n",
      "(None, 8, 22, 500)\n",
      "22 500 64 8\n",
      "(None, 4)\n"
     ]
    }
   ],
   "source": [
    "from EEGModels import EEGNet \n",
    "# from EEGmodels import ShallowConvNet, DeepConvNet\n",
    "# help(EEGNet)\n",
    "model  = EEGNet(nb_classes=4, Chans=22, Samples=500)\n",
    "model.compile(loss = 'categorical_crossentropy', optimizer = 'adam', metrics=['accuracy'])"
   ]
  },
  {
   "cell_type": "code",
   "execution_count": 149,
   "metadata": {},
   "outputs": [],
   "source": [
    "# Train model and show accuracy\n",
    "# Ideal epoch ~ 130\n",
    "fittedModel = model.fit(X_train, y_train, epochs=200, verbose=0,validation_data=(X_val, y_val))"
   ]
  },
  {
   "cell_type": "code",
   "execution_count": 150,
   "metadata": {},
   "outputs": [
    {
     "data": {
      "image/png": "[encoded data removed]",
      "text/plain": [
       "<Figure size 432x288 with 1 Axes>"
      ]
     },
     "metadata": {
      "needs_background": "light"
     },
     "output_type": "display_data"
    }
   ],
   "source": [
    "import matplotlib.pyplot as plt\n",
    "plt.plot(fittedModel.history['val_accuracy'])\n",
    "plt.title('Validation Accuracy for Subject 1, Session 1')\n",
    "plt.xlabel('epoch')\n",
    "plt.ylabel('validation accuracy (%)')\n",
    "plt.legend(['1'])\n",
    "plt.show()\n",
    "# fittedModel.history['val_accuracy']"
   ]
  },
  {
   "cell_type": "markdown",
   "metadata": {},
   "source": [
    "# 4 - Check Cross Subject Classification Performance - SMR\n",
    "Using trained model on subject 1, session 1, to check accuracy on subject 2, session 1. Accuracy around 40% as per paper.\n",
    "Try do simple training of 10 runs and check accuracy"
   ]
  },
  {
   "cell_type": "code",
   "execution_count": 151,
   "metadata": {},
   "outputs": [
    {
     "name": "stdout",
     "output_type": "stream",
     "text": [
      "0.3185185194015503\n"
     ]
    }
   ],
   "source": [
    "# Get subject 2, sesison 1\n",
    "file_name = file['A02T_HDR']\n",
    "A02T_event = get_event_type(file_name)    # Event Type\n",
    "A02T_position = get_position(file_name)   # Position of Event\n",
    "A02T_duration = get_duration(file_name)   # Duration of Event\n",
    "\n",
    "# Get sampled data\n",
    "A02T_sample = file['A02T_s']     # Shape: (Samples, 25)\n",
    "\n",
    "# Apply pre-processing\n",
    "processed_eeg_w_label, val_trial = apply_pre_proc(A02T_sample, file_name)\n",
    "\n",
    "# Split dataset\n",
    "X, y = split_dataset(processed_eeg_w_label, val_trial)\n",
    "\n",
    "X_new = np.expand_dims(X, axis=0)    # (1, trials, samples, channel)\n",
    "X_new= np.transpose(X_new, (1,0,3,2))        # shape (trials, 1, channels, samples)\n",
    "\n",
    "y_new = np_utils.to_categorical(y[:,0]-1)    # (trials, 4)\n",
    "\n",
    "_, accuracy = model.evaluate(X_new, y_new, verbose=0)\n",
    "print(accuracy)"
   ]
  },
  {
   "cell_type": "code",
   "execution_count": 152,
   "metadata": {},
   "outputs": [
    {
     "name": "stdout",
     "output_type": "stream",
     "text": [
      "0.3185185194015503\n"
     ]
    }
   ],
   "source": [
    "# Duplicate model\n",
    "model_dup = tf.keras.models.clone_model(model)\n",
    "model_dup.compile(loss = 'categorical_crossentropy', optimizer = 'adam', metrics=['accuracy'])\n",
    "model_dup.set_weights(model.get_weights())\n",
    "_, accuracy = model_dup.evaluate(X_new, y_new, verbose=0)\n",
    "print(accuracy)"
   ]
  },
  {
   "cell_type": "code",
   "execution_count": 153,
   "metadata": {},
   "outputs": [
    {
     "name": "stdout",
     "output_type": "stream",
     "text": [
      "Initial shapes are:  (270, 1, 22, 500) (270, 4)\n",
      "Training set shapes are:  (100, 1, 22, 500) (100, 4)\n",
      "Validation set shapes are :  (170, 1, 22, 500) (170, 4)\n"
     ]
    },
    {
     "data": {
      "text/plain": [
       "0.364705890417099"
      ]
     },
     "execution_count": 153,
     "metadata": {},
     "output_type": "execute_result"
    }
   ],
   "source": [
    "# Use 10 samples of subject 2 for training on model (transfer learning), epoch=100, then test on remaining samples \n",
    "X_train = X_new[:100]\n",
    "y_train = y_new[:100]\n",
    "X_val = X_new[100:]\n",
    "y_val = y_new[100:]\n",
    "print('Initial shapes are: ', X_new.shape, y_new.shape)\n",
    "print('Training set shapes are: ', X_train.shape, y_train.shape)\n",
    "print('Validation set shapes are : ' ,X_val.shape, y_val.shape)\n",
    "fittedModel = model.fit(X_train, y_train, epochs=20, verbose=0,validation_data=(X_val, y_val))\n",
    "fittedModel.history['val_accuracy'][-1]"
   ]
  },
  {
   "cell_type": "code",
   "execution_count": 154,
   "metadata": {},
   "outputs": [
    {
     "data": {
      "image/png": "[encoded data removed]",
      "text/plain": [
       "<Figure size 432x288 with 1 Axes>"
      ]
     },
     "metadata": {
      "needs_background": "light"
     },
     "output_type": "display_data"
    }
   ],
   "source": [
    "plt.plot(fittedModel.history['val_accuracy'])\n",
    "# plt.plot(fittedModel.history['loss'])\n",
    "# plt.legend(['val accuracy','train_loss'])\n",
    "plt.title('Training vs validation loss')\n",
    "plt.show()"
   ]
  },
  {
   "cell_type": "code",
   "execution_count": 155,
   "metadata": {},
   "outputs": [
    {
     "name": "stdout",
     "output_type": "stream",
     "text": [
      "0.3185185194015503\n"
     ]
    }
   ],
   "source": [
    "# Revert to original model\n",
    "model = tf.keras.models.clone_model(model_dup)\n",
    "model.compile(loss = 'categorical_crossentropy', optimizer = 'adam', metrics=['accuracy'])\n",
    "model.set_weights(model_dup.get_weights())\n",
    "_, accuracy = model.evaluate(X_new, y_new, verbose=0)\n",
    "print(accuracy)"
   ]
  },
  {
   "cell_type": "code",
   "execution_count": 156,
   "metadata": {},
   "outputs": [],
   "source": [
    "# Set all layers to be non-trainable except last Dense and Activation\n",
    "for i in range(len(model.layers)-2):\n",
    "    model.layers[i].trainable = False"
   ]
  },
  {
   "cell_type": "code",
   "execution_count": 157,
   "metadata": {},
   "outputs": [
    {
     "name": "stdout",
     "output_type": "stream",
     "text": [
      "Initial shapes are:  (270, 1, 22, 500) (270, 4)\n",
      "Training set shapes are:  (100, 1, 22, 500) (100, 4)\n",
      "Validation set shapes are :  (170, 1, 22, 500) (170, 4)\n"
     ]
    },
    {
     "data": {
      "text/plain": [
       "0.3705882430076599"
      ]
     },
     "execution_count": 157,
     "metadata": {},
     "output_type": "execute_result"
    }
   ],
   "source": [
    "# Use 10 samples of subject 2 for training on model (transfer learning), epoch=100, then test on remaining samples \n",
    "X_train = X_new[:100]\n",
    "y_train = y_new[:100]\n",
    "X_val = X_new[100:]\n",
    "y_val = y_new[100:]\n",
    "print('Initial shapes are: ', X_new.shape, y_new.shape)\n",
    "print('Training set shapes are: ', X_train.shape, y_train.shape)\n",
    "print('Validation set shapes are : ' ,X_val.shape, y_val.shape)\n",
    "fittedModel = model.fit(X_train, y_train, epochs=100, verbose=0,validation_data=(X_val, y_val))\n",
    "fittedModel.history['val_accuracy'][-1]"
   ]
  },
  {
   "cell_type": "code",
   "execution_count": 158,
   "metadata": {},
   "outputs": [
    {
     "data": {
      "image/png": "[encoded data removed]",
      "text/plain": [
       "<Figure size 432x288 with 1 Axes>"
      ]
     },
     "metadata": {
      "needs_background": "light"
     },
     "output_type": "display_data"
    }
   ],
   "source": [
    "plt.plot(fittedModel.history['val_accuracy'])\n",
    "# plt.plot(fittedModel.history['loss'])\n",
    "# plt.legend(['val accuracy','train_loss'])\n",
    "plt.title('Training vs validation loss')\n",
    "plt.show()"
   ]
  },
  {
   "cell_type": "code",
   "execution_count": 159,
   "metadata": {},
   "outputs": [
    {
     "name": "stdout",
     "output_type": "stream",
     "text": [
      "False\n",
      "False\n",
      "False\n",
      "False\n",
      "False\n",
      "False\n",
      "False\n",
      "False\n",
      "False\n",
      "False\n",
      "False\n",
      "False\n",
      "False\n",
      "False\n",
      "False\n",
      "False\n",
      "False\n",
      "False\n"
     ]
    }
   ],
   "source": [
    "print((model.weights[0] == model_dup.weights[0]).numpy().min())\n",
    "print((model.weights[1] == model_dup.weights[1]).numpy().min())\n",
    "print((model.weights[2] == model_dup.weights[2]).numpy().min())\n",
    "print((model.weights[3] == model_dup.weights[3]).numpy().min())\n",
    "print((model.weights[4] == model_dup.weights[4]).numpy().min())\n",
    "print((model.weights[5] == model_dup.weights[5]).numpy().min())\n",
    "print((model.weights[6] == model_dup.weights[6]).numpy().min())\n",
    "print((model.weights[7] == model_dup.weights[7]).numpy().min())\n",
    "print((model.weights[8] == model_dup.weights[8]).numpy().min())\n",
    "print((model.weights[9] == model_dup.weights[9]).numpy().min())\n",
    "print((model.weights[10] == model_dup.weights[10]).numpy().min())\n",
    "print((model.weights[11] == model_dup.weights[11]).numpy().min())\n",
    "print((model.weights[12] == model_dup.weights[12]).numpy().min())\n",
    "print((model.weights[13] == model_dup.weights[13]).numpy().min())\n",
    "print((model.weights[14] == model_dup.weights[14]).numpy().min())\n",
    "print((model.weights[15] == model_dup.weights[15]).numpy().min())\n",
    "print((model.weights[16] == model_dup.weights[16]).numpy().min())  # Dense layer\n",
    "print((model.weights[17] == model_dup.weights[17]).numpy().min())  # Output Activation Layer "
   ]
  },
  {
   "cell_type": "code",
   "execution_count": 97,
   "metadata": {},
   "outputs": [
    {
     "data": {
      "text/plain": [
       "<tf.Variable 'conv2d_3/kernel:0' shape=(1, 64, 1, 8) dtype=float32, numpy=\n",
       "array([[[[-0.03446178, -0.00420896,  0.15468636,  0.13031098,\n",
       "          -0.01382742,  0.06523546,  0.13141471, -0.04328296]],\n",
       "\n",
       "        [[ 0.01275896,  0.00415338,  0.07534285,  0.09715168,\n",
       "          -0.11890515,  0.00054148, -0.07767237,  0.0657564 ]],\n",
       "\n",
       "        [[-0.00739521, -0.01869408,  0.00940117,  0.17724672,\n",
       "           0.03211797, -0.04953386,  0.04692424,  0.00019899]],\n",
       "\n",
       "        [[ 0.01055138,  0.01959921,  0.0650932 ,  0.00744954,\n",
       "          -0.03622918,  0.0654306 ,  0.01965529, -0.01904916]],\n",
       "\n",
       "        [[ 0.08551197, -0.02230151, -0.04365977,  0.01437938,\n",
       "          -0.12767838, -0.02448788, -0.00183989,  0.08854254]],\n",
       "\n",
       "        [[ 0.11648212,  0.12833901,  0.02507035,  0.06304437,\n",
       "          -0.12248898,  0.04635738, -0.01366336,  0.07732286]],\n",
       "\n",
       "        [[ 0.08079545,  0.07741085, -0.04436238,  0.13085113,\n",
       "          -0.08184595,  0.12652545, -0.04716624,  0.01686728]],\n",
       "\n",
       "        [[ 0.14130677,  0.08918825, -0.07581519,  0.05594016,\n",
       "          -0.05590229,  0.11305941, -0.08357927,  0.03106366]],\n",
       "\n",
       "        [[ 0.04718891, -0.00956306,  0.01542056,  0.07803685,\n",
       "          -0.13257827, -0.00445677,  0.03373668,  0.03844443]],\n",
       "\n",
       "        [[-0.0183917 ,  0.04336127, -0.00398091,  0.1376086 ,\n",
       "          -0.02714251,  0.10431135,  0.03653415,  0.12289652]],\n",
       "\n",
       "        [[ 0.03309547,  0.15139814, -0.06953451,  0.04527622,\n",
       "          -0.00286588, -0.02405481, -0.01928553,  0.04549685]],\n",
       "\n",
       "        [[ 0.00980943,  0.12511395, -0.1087437 ,  0.03347703,\n",
       "          -0.13085572,  0.12337919, -0.04511156,  0.08630857]],\n",
       "\n",
       "        [[ 0.02241511,  0.07641433, -0.07671591, -0.01274006,\n",
       "          -0.04065365,  0.11890602, -0.04640407, -0.02964837]],\n",
       "\n",
       "        [[ 0.05803508,  0.06466524, -0.01205908, -0.02279037,\n",
       "          -0.10460471,  0.03804245, -0.08529301,  0.08196243]],\n",
       "\n",
       "        [[ 0.03945765,  0.13449444, -0.06104685, -0.01186336,\n",
       "           0.00653903,  0.039567  , -0.07407211, -0.04716537]],\n",
       "\n",
       "        [[-0.04644594, -0.02318355,  0.02597991,  0.02689953,\n",
       "          -0.10434607, -0.07541306,  0.01404906, -0.00539919]],\n",
       "\n",
       "        [[-0.0512343 , -0.01943094, -0.08223876,  0.07618239,\n",
       "           0.03320769,  0.0850203 , -0.10013162,  0.10007241]],\n",
       "\n",
       "        [[ 0.04106697,  0.079111  , -0.06048268,  0.05688069,\n",
       "          -0.03045229, -0.08541834, -0.04163232, -0.04152107]],\n",
       "\n",
       "        [[ 0.09026121,  0.02805482, -0.009293  ,  0.07666606,\n",
       "           0.0662329 ,  0.06169513,  0.06970197,  0.07758952]],\n",
       "\n",
       "        [[-0.06195838, -0.05931209,  0.01171423, -0.0911775 ,\n",
       "          -0.03750714,  0.04878246,  0.0662557 ,  0.0718646 ]],\n",
       "\n",
       "        [[-0.03513942,  0.03021535, -0.05815373, -0.03707169,\n",
       "          -0.01176076, -0.07184341, -0.07232591,  0.04757645]],\n",
       "\n",
       "        [[ 0.10584553, -0.09290557, -0.01591356,  0.04075499,\n",
       "          -0.02277207,  0.09568986, -0.11215247,  0.00349062]],\n",
       "\n",
       "        [[-0.00590466,  0.06668175,  0.04947851,  0.07153959,\n",
       "           0.00414101, -0.06206289,  0.03097757,  0.06578025]],\n",
       "\n",
       "        [[ 0.01051701,  0.03226075, -0.08350788,  0.00996354,\n",
       "           0.01712647,  0.05228599, -0.06903131,  0.09754372]],\n",
       "\n",
       "        [[-0.03704292, -0.05939106, -0.1196168 ,  0.03832201,\n",
       "          -0.0187686 ,  0.03850735, -0.03887961,  0.08063501]],\n",
       "\n",
       "        [[-0.02788153, -0.02111148, -0.06654875,  0.04725308,\n",
       "           0.03556518,  0.05080627, -0.04226954, -0.08067082]],\n",
       "\n",
       "        [[ 0.08567924,  0.0141369 ,  0.05580853, -0.03438049,\n",
       "          -0.02021866,  0.06562835, -0.03028718,  0.07313856]],\n",
       "\n",
       "        [[ 0.08883841,  0.06113764, -0.05712818, -0.07577737,\n",
       "          -0.03156872, -0.01680904,  0.01892282, -0.07813679]],\n",
       "\n",
       "        [[ 0.12194554, -0.00296748,  0.02984441,  0.01519813,\n",
       "           0.07356798,  0.01707538,  0.02179555,  0.0232736 ]],\n",
       "\n",
       "        [[ 0.07300888, -0.07799311,  0.0476457 , -0.02628802,\n",
       "          -0.05491351,  0.05587227, -0.10186476,  0.10846919]],\n",
       "\n",
       "        [[-0.00295556, -0.10704954, -0.08177792, -0.03905018,\n",
       "           0.0459526 ,  0.08962822, -0.09226751,  0.0968255 ]],\n",
       "\n",
       "        [[-0.0103257 , -0.04099384, -0.04882314,  0.03601089,\n",
       "          -0.01569072,  0.03030593, -0.11588397,  0.08524071]],\n",
       "\n",
       "        [[ 0.08281241, -0.07187422, -0.03049419,  0.11932389,\n",
       "           0.04764184,  0.00058688, -0.10984002,  0.00366623]],\n",
       "\n",
       "        [[ 0.04854521, -0.01330463,  0.01502348,  0.01582564,\n",
       "           0.02458597,  0.06942182, -0.03107558, -0.02052004]],\n",
       "\n",
       "        [[ 0.08228649, -0.06491262, -0.04085581,  0.01843343,\n",
       "           0.10533669,  0.08816993,  0.05518768, -0.03152523]],\n",
       "\n",
       "        [[ 0.03836391,  0.02161941,  0.01406931, -0.02664592,\n",
       "          -0.02078343,  0.02843111, -0.07421032, -0.03925023]],\n",
       "\n",
       "        [[-0.11647519,  0.00028775, -0.07027072,  0.00232265,\n",
       "           0.06300403, -0.05077093, -0.01216339,  0.04313338]],\n",
       "\n",
       "        [[ 0.02162012, -0.04493212, -0.02319664,  0.03328027,\n",
       "          -0.01363063, -0.02322188,  0.05638008,  0.02877936]],\n",
       "\n",
       "        [[-0.01877413,  0.00966535,  0.094464  ,  0.03213203,\n",
       "          -0.06399501, -0.03669254, -0.00959112,  0.02597749]],\n",
       "\n",
       "        [[-0.04908187, -0.08109241, -0.05856325, -0.00865796,\n",
       "           0.02620883,  0.0452328 ,  0.0192695 ,  0.04180799]],\n",
       "\n",
       "        [[-0.04149224, -0.07136508, -0.0591414 , -0.0752558 ,\n",
       "          -0.04576447, -0.07265729,  0.03377306,  0.01381868]],\n",
       "\n",
       "        [[ 0.04962248,  0.04336126,  0.08144981,  0.07374128,\n",
       "          -0.050902  , -0.01684174, -0.00809875, -0.06846286]],\n",
       "\n",
       "        [[-0.04178744, -0.12176161, -0.00532871,  0.03525256,\n",
       "           0.06910767,  0.0655293 , -0.01597893,  0.08891974]],\n",
       "\n",
       "        [[-0.07261186, -0.01689441,  0.0067526 , -0.03541677,\n",
       "           0.00507576, -0.03656269,  0.03791442, -0.02439958]],\n",
       "\n",
       "        [[ 0.0082185 ,  0.01204198,  0.00092673, -0.03301644,\n",
       "          -0.00992631, -0.04964353, -0.01970606,  0.05717201]],\n",
       "\n",
       "        [[ 0.0338598 , -0.00786436,  0.03589441, -0.08001313,\n",
       "           0.00273645,  0.06251977, -0.04357421, -0.01602481]],\n",
       "\n",
       "        [[ 0.07308475,  0.07394267,  0.05705602, -0.07890048,\n",
       "           0.0495626 ,  0.00100215, -0.05515072, -0.01677686]],\n",
       "\n",
       "        [[ 0.02126981, -0.05430771, -0.03491705, -0.07354014,\n",
       "           0.01163374, -0.0698592 , -0.07533479, -0.04411329]],\n",
       "\n",
       "        [[ 0.09709138,  0.02270189, -0.02517313, -0.08198222,\n",
       "           0.01952571,  0.04507595,  0.09885365,  0.09428632]],\n",
       "\n",
       "        [[-0.01120128,  0.09863673, -0.10992748,  0.00959914,\n",
       "           0.01817857, -0.02527127,  0.01896484,  0.00925018]],\n",
       "\n",
       "        [[ 0.02236928,  0.0133531 , -0.03224481,  0.0359824 ,\n",
       "           0.04989668, -0.04484079, -0.10441981,  0.01835251]],\n",
       "\n",
       "        [[-0.06417473,  0.10443751, -0.07179821, -0.04896907,\n",
       "           0.00779168,  0.06798534, -0.06221497,  0.09928869]],\n",
       "\n",
       "        [[ 0.04257847, -0.04776105, -0.00459414, -0.01937465,\n",
       "           0.09616817,  0.10145453,  0.03871376,  0.13146195]],\n",
       "\n",
       "        [[ 0.00232187,  0.0175337 , -0.12982468, -0.06284896,\n",
       "          -0.00655397,  0.01686414,  0.00672093,  0.04160511]],\n",
       "\n",
       "        [[-0.0024103 ,  0.08430634,  0.04399581,  0.03600997,\n",
       "          -0.01230426, -0.05697631, -0.05176349, -0.0400596 ]],\n",
       "\n",
       "        [[-0.09482008, -0.06672629,  0.00051112, -0.10618453,\n",
       "          -0.0368025 ,  0.05538805,  0.07649738, -0.04453318]],\n",
       "\n",
       "        [[ 0.03563191, -0.04982712, -0.02905099, -0.07111119,\n",
       "           0.0858712 ,  0.01899056, -0.05453855,  0.04228906]],\n",
       "\n",
       "        [[-0.04729212,  0.03147909, -0.06343947,  0.02282718,\n",
       "           0.02341028, -0.03670341, -0.04120593, -0.04651903]],\n",
       "\n",
       "        [[-0.05847147,  0.09129684,  0.00151734, -0.04338013,\n",
       "           0.03902202,  0.00233485, -0.01162401, -0.07645101]],\n",
       "\n",
       "        [[-0.00653201,  0.06676175,  0.10183908,  0.04931395,\n",
       "          -0.06309079,  0.01056244,  0.10245842, -0.0744101 ]],\n",
       "\n",
       "        [[ 0.02720479,  0.06157349, -0.03638413,  0.02652872,\n",
       "          -0.01327804, -0.02938334, -0.03896497,  0.05150484]],\n",
       "\n",
       "        [[ 0.08965219,  0.06004548,  0.10650357, -0.13677888,\n",
       "          -0.00901786,  0.03555181,  0.0512043 ,  0.00657111]],\n",
       "\n",
       "        [[ 0.09167363, -0.06473117,  0.01117402, -0.02163702,\n",
       "           0.10870717, -0.10336932,  0.04131811, -0.06561908]],\n",
       "\n",
       "        [[ 0.13769168,  0.13035142,  0.08220193, -0.11572994,\n",
       "          -0.04674408, -0.07355088,  0.0879156 , -0.04545037]]]],\n",
       "      dtype=float32)>"
      ]
     },
     "execution_count": 97,
     "metadata": {},
     "output_type": "execute_result"
    }
   ],
   "source": [
    "model_dup.weights[0]"
   ]
  },
  {
   "cell_type": "markdown",
   "metadata": {},
   "source": [
    "# Coding + Debugging \n",
    "-  Test pre_proc / pre_process using test_pre_process, and sigproc using test_sigproc\n"
   ]
  },
  {
   "cell_type": "code",
   "execution_count": null,
   "metadata": {},
   "outputs": [],
   "source": [
    "a = []\n",
    "a.append(np.array([[1,2]]))\n",
    "a.append(np.array([[3,4],[5,6]]))\n",
    "b = np.array(a)\n",
    "print(b[1])"
   ]
  },
  {
   "cell_type": "code",
   "execution_count": null,
   "metadata": {},
   "outputs": [],
   "source": [
    "run ./pre_proc/test_pre_process.py"
   ]
  },
  {
   "cell_type": "code",
   "execution_count": null,
   "metadata": {},
   "outputs": [],
   "source": [
    "expected_X = np.array([np.array([[7,8],[10,11]]),\\\n",
    "                               np.array([[16,17]])])"
   ]
  },
  {
   "cell_type": "code",
   "execution_count": null,
   "metadata": {},
   "outputs": [],
   "source": [
    "len(expected_X)"
   ]
  },
  {
   "cell_type": "code",
   "execution_count": null,
   "metadata": {},
   "outputs": [],
   "source": [
    "run ./pre_proc/test_sigproc.py"
   ]
  },
  {
   "cell_type": "code",
   "execution_count": null,
   "metadata": {},
   "outputs": [],
   "source": [
    "sampled_eeg = np.array(file['A08E_s'])\n",
    "sampled_eeg.shape\n",
    "file['A08E_s']"
   ]
  },
  {
   "cell_type": "code",
   "execution_count": null,
   "metadata": {},
   "outputs": [],
   "source": [
    "a = file['A08E_s']"
   ]
  },
  {
   "cell_type": "code",
   "execution_count": null,
   "metadata": {},
   "outputs": [],
   "source": [
    "import numpy as np\n",
    "np.nan == np.nan"
   ]
  },
  {
   "cell_type": "code",
   "execution_count": null,
   "metadata": {},
   "outputs": [],
   "source": [
    "min(np.array([[1],[5]]))"
   ]
  },
  {
   "cell_type": "code",
   "execution_count": null,
   "metadata": {},
   "outputs": [],
   "source": [
    "# file['A03E_HDR']['EVENT'][0,0][0][0][1]"
   ]
  },
  {
   "cell_type": "code",
   "execution_count": null,
   "metadata": {},
   "outputs": [],
   "source": [
    "import tensorflow as tf\n",
    "print(tf.__version__)"
   ]
  },
  {
   "cell_type": "code",
   "execution_count": null,
   "metadata": {},
   "outputs": [],
   "source": [
    "from EEGModels import EEGNet, ShallowConvNet, DeepConvNet\n",
    "# import tensorflow.compat.v1 as tf\n",
    "# tf.disable_v2_behavior()\n",
    "help(EEGNet)"
   ]
  },
  {
   "cell_type": "code",
   "execution_count": null,
   "metadata": {},
   "outputs": [],
   "source": [
    "model  = EEGNet(4)"
   ]
  },
  {
   "cell_type": "code",
   "execution_count": null,
   "metadata": {},
   "outputs": [],
   "source": [
    "model.compile(loss = 'categorical_crossentropy', optimizer = 'adam')"
   ]
  },
  {
   "cell_type": "code",
   "execution_count": null,
   "metadata": {},
   "outputs": [],
   "source": [
    "from braindecode.datautil.preprocess import exponential_moving_standardize\n",
    "from braindecode.datautil.preprocess import MNEPreproc, NumpyPreproc, preprocess"
   ]
  },
  {
   "cell_type": "code",
   "execution_count": null,
   "metadata": {},
   "outputs": [],
   "source": [
    "low_cut_hz = 4.  # low cut frequency for filtering\n",
    "high_cut_hz = 38.  # high cut frequency for filtering\n",
    "# Parameters for exponential moving standardization\n",
    "factor_new = 1e-3\n",
    "init_block_size = 1000\n",
    "\n",
    "preprocessors = [\n",
    "    # keep only EEG sensors\n",
    "    MNEPreproc(fn='pick_types', eeg=True, meg=False, stim=False),\n",
    "    # convert from volt to microvolt, directly modifying the numpy array\n",
    "    NumpyPreproc(fn=lambda x: x * 1e6),\n",
    "    # bandpass filter\n",
    "    MNEPreproc(fn='filter', l_freq=low_cut_hz, h_freq=high_cut_hz),\n",
    "    # exponential moving standardization\n",
    "    NumpyPreproc(fn=exponential_moving_standardize, factor_new=factor_new,\n",
    "        init_block_size=init_block_size)\n",
    "]\n",
    "\n",
    "# Transform the data\n",
    "preprocess(dataset, preprocessors)"
   ]
  },
  {
   "cell_type": "code",
   "execution_count": null,
   "metadata": {},
   "outputs": [],
   "source": [
    "import numpy as np\n",
    "np.array([])"
   ]
  },
  {
   "cell_type": "code",
   "execution_count": null,
   "metadata": {},
   "outputs": [],
   "source": [
    "a = []\n",
    "b = np.array(a)\n",
    "b"
   ]
  },
  {
   "cell_type": "code",
   "execution_count": null,
   "metadata": {},
   "outputs": [],
   "source": [
    "a.append(np.array([[1,2],[3,4]]))"
   ]
  },
  {
   "cell_type": "code",
   "execution_count": null,
   "metadata": {},
   "outputs": [],
   "source": [
    "a"
   ]
  },
  {
   "cell_type": "code",
   "execution_count": null,
   "metadata": {},
   "outputs": [],
   "source": [
    "b = np.array(a)"
   ]
  },
  {
   "cell_type": "code",
   "execution_count": null,
   "metadata": {},
   "outputs": [],
   "source": [
    "b"
   ]
  },
  {
   "cell_type": "markdown",
   "metadata": {},
   "source": [
    "# Testing out codes for splitting\n",
    "Assumptions:\n",
    "1. End with 0s at the end, else wont catch the last set of 1s\n",
    "\n",
    "2. Also assume last sample, and 2nd last is 0s, else the dly will drop last sample, and if 2nd last not 0, will miss last set of 1s."
   ]
  },
  {
   "cell_type": "code",
   "execution_count": null,
   "metadata": {},
   "outputs": [],
   "source": [
    "c = np.array([[0],[0],[0],\\\n",
    "              [1],[2],[3],\\\n",
    "              [0],[0],\\\n",
    "              [4],[5],[6],[7],\\\n",
    "              [0],[0],[0], \\\n",
    "              [8],[9], \\\n",
    "              [0],[0],[0]])\n",
    "\n",
    "c = np.array([[1],[1],[1],[1],[0],[1],[0],[1],[0],[0]])\n",
    "\n",
    "d = np.array([[0,1,2],\\\n",
    "              [3,4,5],\\\n",
    "              [6,7,8],\\\n",
    "              [9,10,11],\\\n",
    "              [12,13,14],\\\n",
    "              [15,16,17],\\\n",
    "              [18,19,20],\\\n",
    "              [21,22,23],\\\n",
    "              [24,25,26],\\\n",
    "              [27,28,29]])\n"
   ]
  },
  {
   "cell_type": "code",
   "execution_count": null,
   "metadata": {},
   "outputs": [],
   "source": [
    "ones = np.where(c[:,0]>0)\n",
    "index_ones = np.array(ones)[0]\n",
    "print('index_one = \\t\\t', index_ones)\n",
    "index_ones_dly = np.array(ones)[:,1:][0]\n",
    "print('index_ones_dly = \\t', index_ones_dly)\n",
    "index_ones = index_ones[:-1]\n",
    "print('index_ones = \\t\\t', index_ones)\n",
    "indexes_1 = index_ones_dly-index_ones\n",
    "print('indexes_1 = \\t\\t',indexes_1)"
   ]
  },
  {
   "cell_type": "code",
   "execution_count": null,
   "metadata": {},
   "outputs": [],
   "source": [
    "split_list = np.array(np.where(indexes_1 != 1))[0]\n",
    "print(split_list)"
   ]
  },
  {
   "cell_type": "code",
   "execution_count": null,
   "metadata": {},
   "outputs": [],
   "source": [
    "e = np.array(np.split(c[c>0], split_list+1))\n",
    "print(e.shape,type(e))\n",
    "print(e)"
   ]
  },
  {
   "cell_type": "code",
   "execution_count": null,
   "metadata": {},
   "outputs": [],
   "source": [
    "e2 = np.array(np.split(d[(c>0)[:,0]], split_list+1))\n",
    "print(e2.shape, type(e2))\n",
    "print(e2)\n",
    "print(e2[0])\n",
    "print(e2[1])\n",
    "print(e2[2])"
   ]
  },
  {
   "cell_type": "code",
   "execution_count": null,
   "metadata": {},
   "outputs": [],
   "source": [
    "zeros = np.where(c[:,0]==0)\n",
    "index_zeros = np.array(zeros)[0]\n",
    "print('index_zeros = \\t\\t', index_zeros)\n",
    "index_zeros_dly = np.array(zeros)[:,1:][0]\n",
    "print('index_zeros_dly = \\t', index_zeros_dly)\n",
    "index_zeros = index_zeros[:-1]\n",
    "print('index_zeros = \\t\\t', index_zeros)\n",
    "indexes_0 = index_zeros_dly-index_zeros\n",
    "print('indexes_0 = \\t\\t',indexes_0)"
   ]
  },
  {
   "cell_type": "code",
   "execution_count": null,
   "metadata": {},
   "outputs": [],
   "source": []
  },
  {
   "cell_type": "code",
   "execution_count": null,
   "metadata": {},
   "outputs": [],
   "source": [
    "c = np.array([[0],[1],[2],\\\n",
    "              [1],[2],[3],\\\n",
    "              [2],[2],\\\n",
    "              [4],[1],[6],[7],\\\n",
    "              [1],[3],[3], \\\n",
    "              [8],[9], \\\n",
    "              [0],[5],[4]])"
   ]
  },
  {
   "cell_type": "code",
   "execution_count": null,
   "metadata": {},
   "outputs": [],
   "source": [
    "d = np.array([[0.0,1,2],\\\n",
    "              [3,4,5],\\\n",
    "              [6,7,8],\\\n",
    "              [9,10,11],\\\n",
    "              [12,13,17],\\\n",
    "              [15,16,17],\\\n",
    "              [18,19,20],\\\n",
    "              [21,22,23],\\\n",
    "              [24,25,26],\\\n",
    "              [27,28,29]])\n"
   ]
  },
  {
   "cell_type": "code",
   "execution_count": null,
   "metadata": {},
   "outputs": [],
   "source": [
    "np.apply_along_axis(np.bincount, 0, d[:,-1].astype(np.int64)).argmax()"
   ]
  },
  {
   "cell_type": "code",
   "execution_count": null,
   "metadata": {},
   "outputs": [],
   "source": [
    "d[:,-1].astype(np.int64)"
   ]
  },
  {
   "cell_type": "code",
   "execution_count": null,
   "metadata": {},
   "outputs": [],
   "source": [
    "np.expand_dims(d[:,-1], axis=1)"
   ]
  },
  {
   "cell_type": "code",
   "execution_count": null,
   "metadata": {},
   "outputs": [],
   "source": [
    "a = np.array([[1],[2]])\n",
    "len(a.flatten())"
   ]
  },
  {
   "cell_type": "code",
   "execution_count": null,
   "metadata": {},
   "outputs": [],
   "source": [
    "b = []\n"
   ]
  }
 ],
 "metadata": {
  "kernelspec": {
   "display_name": "Python 3",
   "language": "python",
   "name": "python3"
  },
  "language_info": {
   "codemirror_mode": {
    "name": "ipython",
    "version": 3
   },
   "file_extension": ".py",
   "mimetype": "text/x-python",
   "name": "python",
   "nbconvert_exporter": "python",
   "pygments_lexer": "ipython3",
   "version": "3.8.3"
  }
 },
 "nbformat": 4,
 "nbformat_minor": 4
}
