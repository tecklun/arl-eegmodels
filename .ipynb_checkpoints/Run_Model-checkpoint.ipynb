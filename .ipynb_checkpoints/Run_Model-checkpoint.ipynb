{
 "cells": [
  {
   "cell_type": "markdown",
   "metadata": {},
   "source": [
    "<img src=\"images/HDR_Structure.png\" style=\"width:400px;height:500px;\">\n",
    "<caption><center> Figure 1 : file['A0xx_HDR'] Structure</center></caption><br>"
   ]
  },
  {
   "cell_type": "code",
   "execution_count": 1,
   "metadata": {},
   "outputs": [],
   "source": [
    "## Load generated .mat file (see get_bci4_dataset2b_data.m) that is generated from downloaded gdf file\n",
    "from scipy.io import loadmat\n",
    "\n",
    "\"\"\"\n",
    "file is a dictionary with following indexes (e.g. file['A01E_s'])\n",
    "'A01E_s', 'A01E_HDR', 'A01T_s', 'A01T_HDR', \n",
    "'A02E_s', 'A02E_HDR', 'A02T_s', 'A02T_HDR', \n",
    "'A03E_s', 'A03E_HDR', 'A03T_s', 'A03T_HDR', \n",
    "'A04E_s', 'A04E_HDR', 'A04T_s', 'A04T_HDR', \n",
    "'A05E_s', 'A05E_HDR', 'A05T_s', 'A05T_HDR', \n",
    "'A06E_s', 'A06E_HDR', 'A06T_s', 'A06T_HDR', \n",
    "'A07E_s', 'A07E_HDR', 'A07T_s', 'A07T_HDR', \n",
    "'A08E_s', 'A08E_HDR', 'A08T_s', 'A08T_HDR', \n",
    "'A09E_s', 'A09E_HDR', 'A09T_s', 'A09T_HDR'\n",
    "\n",
    "All file['A0xE_x'] are evaluation set (i.e. test), \n",
    "while file['A0xT_x'] are training set\n",
    "\n",
    "All file['A0xE/T_s'] has shape (~660000, 25) \n",
    "they are the signal set. First 22 channels are EEG recording, last 3 are EOG signals\n",
    "\n",
    "\n",
    "All file['A0xx_HDR'] gives the metadata of the EEG recording\n",
    "e.g. file['A03T_HDR']['TYPE'][0,0][0] returns 'GDF'\n",
    "\"\"\"\n",
    "    \n",
    "    \n",
    "# Train set, Test set\n",
    "file = loadmat('bci4_dataset2b.mat')\n",
    "# x_train_file = file['x_train']\n",
    "# y_train_file = file['y_train']\n",
    "# x_test_file = file['x_test']\n",
    "\n",
    "# # True labels for test set\n",
    "# file = loadmat('labels_data_set_iii.mat')\n",
    "# y_test_file = file['y_test']\n",
    "\n",
    "# Use following to see events\n",
    "# file['A03E_HDR']['EVENT'][0,0][0][0][1]\n",
    "import numpy as np"
   ]
  },
  {
   "cell_type": "code",
   "execution_count": 3,
   "metadata": {},
   "outputs": [],
   "source": [
    "# Get header file information\n",
    "from preprocess.preprocess import *\n",
    "file_name = file['A08E_HDR']\n",
    "A01T_event = get_event_type(file_name)    # Event Type\n",
    "A01T_position = get_position(file_name)   # Position of Event\n",
    "A01T_duration = get_duration(file_name)   # Duration of Event\n",
    "\n",
    "# Get sampled data\n",
    "A01T_sample = file['A08E_s']     # Shape: (Samples, 25)"
   ]
  },
  {
   "cell_type": "code",
   "execution_count": 17,
   "metadata": {},
   "outputs": [
    {
     "data": {
      "text/plain": [
       "array([[ 25.        ,  26.7578125 ,  24.85351562, ...,   9.27734375,\n",
       "         22.4609375 ,  36.62109375],\n",
       "       [ 15.4296875 ,  13.96484375,  16.6015625 , ...,  -8.7890625 ,\n",
       "          9.765625  ,  23.4375    ],\n",
       "       [ 11.23046875,  14.40429688,  13.4765625 , ...,  -8.30078125,\n",
       "          2.44140625,  14.6484375 ],\n",
       "       ...,\n",
       "       [ -1.3671875 ,   0.24414062,  -2.29492188, ...,  -1.953125  ,\n",
       "         10.25390625,  27.83203125],\n",
       "       [-20.01953125, -17.23632812, -19.58007812, ..., -19.04296875,\n",
       "         -8.30078125,  12.20703125],\n",
       "       [ -3.17382812,  -2.34375   ,  -2.88085938, ...,  -8.7890625 ,\n",
       "          2.44140625,  22.94921875]])"
      ]
     },
     "execution_count": 17,
     "metadata": {},
     "output_type": "execute_result"
    }
   ],
   "source": [
    "sampled_eeg = np.array(file['A08E_s'])\n",
    "sampled_eeg.shape\n",
    "file['A08E_s']"
   ]
  },
  {
   "cell_type": "code",
   "execution_count": 13,
   "metadata": {},
   "outputs": [
    {
     "data": {
      "text/plain": [
       "25"
      ]
     },
     "execution_count": 13,
     "metadata": {},
     "output_type": "execute_result"
    }
   ],
   "source": [
    "file['A08E_s'].shape[1]"
   ]
  },
  {
   "cell_type": "code",
   "execution_count": null,
   "metadata": {},
   "outputs": [],
   "source": []
  },
  {
   "cell_type": "code",
   "execution_count": null,
   "metadata": {},
   "outputs": [],
   "source": []
  },
  {
   "cell_type": "code",
   "execution_count": null,
   "metadata": {},
   "outputs": [],
   "source": []
  },
  {
   "cell_type": "code",
   "execution_count": null,
   "metadata": {},
   "outputs": [],
   "source": []
  },
  {
   "cell_type": "code",
   "execution_count": null,
   "metadata": {},
   "outputs": [],
   "source": [
    "# file['A03E_HDR']['EVENT'][0,0][0][0][1]"
   ]
  },
  {
   "cell_type": "code",
   "execution_count": null,
   "metadata": {},
   "outputs": [],
   "source": [
    "import tensorflow as tf\n",
    "print(tf.__version__)"
   ]
  },
  {
   "cell_type": "code",
   "execution_count": null,
   "metadata": {},
   "outputs": [],
   "source": [
    "from EEGModels import EEGNet, ShallowConvNet, DeepConvNet\n",
    "# import tensorflow.compat.v1 as tf\n",
    "# tf.disable_v2_behavior()\n",
    "help(EEGNet)"
   ]
  },
  {
   "cell_type": "code",
   "execution_count": null,
   "metadata": {},
   "outputs": [],
   "source": [
    "model  = EEGNet(4)"
   ]
  },
  {
   "cell_type": "code",
   "execution_count": null,
   "metadata": {},
   "outputs": [],
   "source": [
    "model.compile(loss = 'categorical_crossentropy', optimizer = 'adam')"
   ]
  },
  {
   "cell_type": "code",
   "execution_count": null,
   "metadata": {},
   "outputs": [],
   "source": [
    "from braindecode.datautil.preprocess import exponential_moving_standardize\n",
    "from braindecode.datautil.preprocess import MNEPreproc, NumpyPreproc, preprocess"
   ]
  },
  {
   "cell_type": "code",
   "execution_count": null,
   "metadata": {},
   "outputs": [],
   "source": [
    "low_cut_hz = 4.  # low cut frequency for filtering\n",
    "high_cut_hz = 38.  # high cut frequency for filtering\n",
    "# Parameters for exponential moving standardization\n",
    "factor_new = 1e-3\n",
    "init_block_size = 1000\n",
    "\n",
    "preprocessors = [\n",
    "    # keep only EEG sensors\n",
    "    MNEPreproc(fn='pick_types', eeg=True, meg=False, stim=False),\n",
    "    # convert from volt to microvolt, directly modifying the numpy array\n",
    "    NumpyPreproc(fn=lambda x: x * 1e6),\n",
    "    # bandpass filter\n",
    "    MNEPreproc(fn='filter', l_freq=low_cut_hz, h_freq=high_cut_hz),\n",
    "    # exponential moving standardization\n",
    "    NumpyPreproc(fn=exponential_moving_standardize, factor_new=factor_new,\n",
    "        init_block_size=init_block_size)\n",
    "]\n",
    "\n",
    "# Transform the data\n",
    "preprocess(dataset, preprocessors)"
   ]
  },
  {
   "cell_type": "code",
   "execution_count": null,
   "metadata": {},
   "outputs": [],
   "source": [
    "help(preprocess)"
   ]
  },
  {
   "cell_type": "code",
   "execution_count": null,
   "metadata": {},
   "outputs": [],
   "source": []
  }
 ],
 "metadata": {
  "kernelspec": {
   "display_name": "Python 3",
   "language": "python",
   "name": "python3"
  },
  "language_info": {
   "codemirror_mode": {
    "name": "ipython",
    "version": 3
   },
   "file_extension": ".py",
   "mimetype": "text/x-python",
   "name": "python",
   "nbconvert_exporter": "python",
   "pygments_lexer": "ipython3",
   "version": "3.7.6"
  }
 },
 "nbformat": 4,
 "nbformat_minor": 4
}
